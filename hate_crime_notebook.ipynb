{
 "cells": [
  {
   "cell_type": "code",
   "execution_count": 34,
   "id": "f24cf93b",
   "metadata": {},
   "outputs": [],
   "source": [
    "import pandas as pd"
   ]
  },
  {
   "cell_type": "code",
   "execution_count": 35,
   "id": "3a8b0b61",
   "metadata": {},
   "outputs": [],
   "source": [
    "hc = pd.read_csv(\"hate_crime.csv\")"
   ]
  },
  {
   "cell_type": "markdown",
   "id": "31efc695",
   "metadata": {},
   "source": [
    "# Dataset source:\n",
    "\n",
    "https://crime-data-explorer.app.cloud.gov/pages/downloads#nibrs-downloads\n",
    "\n",
    "Look for \"Hate Crime Statistics Annual Reports\"."
   ]
  },
  {
   "cell_type": "markdown",
   "id": "f7186c0d",
   "metadata": {},
   "source": [
    "# Information about the dataset"
   ]
  },
  {
   "cell_type": "code",
   "execution_count": 36,
   "id": "8002b655",
   "metadata": {},
   "outputs": [
    {
     "name": "stdout",
     "output_type": "stream",
     "text": [
      "<class 'pandas.core.frame.DataFrame'>\n",
      "RangeIndex: 219073 entries, 0 to 219072\n",
      "Data columns (total 28 columns):\n",
      " #   Column                    Non-Null Count   Dtype  \n",
      "---  ------                    --------------   -----  \n",
      " 0   INCIDENT_ID               219073 non-null  int64  \n",
      " 1   DATA_YEAR                 219073 non-null  int64  \n",
      " 2   ORI                       219073 non-null  object \n",
      " 3   PUB_AGENCY_NAME           219073 non-null  object \n",
      " 4   PUB_AGENCY_UNIT           6427 non-null    object \n",
      " 5   AGENCY_TYPE_NAME          219073 non-null  object \n",
      " 6   STATE_ABBR                219073 non-null  object \n",
      " 7   STATE_NAME                219073 non-null  object \n",
      " 8   DIVISION_NAME             219073 non-null  object \n",
      " 9   REGION_NAME               219073 non-null  object \n",
      " 10  POPULATION_GROUP_CODE     219073 non-null  object \n",
      " 11  POPULATION_GROUP_DESC     219073 non-null  object \n",
      " 12  INCIDENT_DATE             219073 non-null  object \n",
      " 13  ADULT_VICTIM_COUNT        50907 non-null   float64\n",
      " 14  JUVENILE_VICTIM_COUNT     49035 non-null   float64\n",
      " 15  TOTAL_OFFENDER_COUNT      219073 non-null  int64  \n",
      " 16  ADULT_OFFENDER_COUNT      46841 non-null   float64\n",
      " 17  JUVENILE_OFFENDER_COUNT   46834 non-null   float64\n",
      " 18  OFFENDER_RACE             219053 non-null  object \n",
      " 19  OFFENDER_ETHNICITY        34369 non-null   object \n",
      " 20  VICTIM_COUNT              219073 non-null  int64  \n",
      " 21  OFFENSE_NAME              219073 non-null  object \n",
      " 22  TOTAL_INDIVIDUAL_VICTIMS  215594 non-null  float64\n",
      " 23  LOCATION_NAME             219073 non-null  object \n",
      " 24  BIAS_DESC                 219073 non-null  object \n",
      " 25  VICTIM_TYPES              219073 non-null  object \n",
      " 26  MULTIPLE_OFFENSE          219073 non-null  object \n",
      " 27  MULTIPLE_BIAS             219073 non-null  object \n",
      "dtypes: float64(5), int64(4), object(19)\n",
      "memory usage: 46.8+ MB\n"
     ]
    }
   ],
   "source": [
    "hc.info()"
   ]
  },
  {
   "cell_type": "markdown",
   "id": "82aa55c1",
   "metadata": {},
   "source": [
    "# (Top 5) States with Hate Crimes"
   ]
  },
  {
   "cell_type": "code",
   "execution_count": 178,
   "id": "804689de",
   "metadata": {},
   "outputs": [
    {
     "data": {
      "text/plain": [
       "California       36235\n",
       "New Jersey       20960\n",
       "New York         20006\n",
       "Michigan         12229\n",
       "Massachusetts    11178\n",
       "Name: STATE_NAME, dtype: int64"
      ]
     },
     "execution_count": 178,
     "metadata": {},
     "output_type": "execute_result"
    }
   ],
   "source": [
    "hc[\"STATE_NAME\"].value_counts().head(5)"
   ]
  },
  {
   "cell_type": "markdown",
   "id": "ace15c52",
   "metadata": {},
   "source": [
    "# (Bottom 5) States with Hate Crimes"
   ]
  },
  {
   "cell_type": "code",
   "execution_count": 179,
   "id": "de48b725",
   "metadata": {},
   "outputs": [
    {
     "data": {
      "text/plain": [
       "Guam             5\n",
       "Hawaii         120\n",
       "Wyoming        176\n",
       "Mississippi    210\n",
       "Alabama        231\n",
       "Name: STATE_NAME, dtype: int64"
      ]
     },
     "execution_count": 179,
     "metadata": {},
     "output_type": "execute_result"
    }
   ],
   "source": [
    "hc[\"STATE_NAME\"].value_counts(ascending=True).head(5)"
   ]
  },
  {
   "cell_type": "markdown",
   "id": "6356f0d9",
   "metadata": {},
   "source": [
    "# Percentage of Hate Crimes by State"
   ]
  },
  {
   "cell_type": "code",
   "execution_count": 180,
   "id": "f73572e7",
   "metadata": {},
   "outputs": [
    {
     "data": {
      "text/plain": [
       "California              16.540149\n",
       "New Jersey               9.567587\n",
       "New York                 9.132116\n",
       "Michigan                 5.582158\n",
       "Massachusetts            5.102409\n",
       "Ohio                     3.901439\n",
       "Texas                    3.872225\n",
       "Washington               3.867204\n",
       "Arizona                  3.087555\n",
       "Maryland                 2.593656\n",
       "Virginia                 2.557595\n",
       "Illinois                 2.516513\n",
       "Florida                  2.366791\n",
       "Minnesota                2.162749\n",
       "Oregon                   2.089714\n",
       "Colorado                 1.981531\n",
       "Tennessee                1.887955\n",
       "Connecticut              1.669763\n",
       "Pennsylvania             1.606770\n",
       "Kentucky                 1.534192\n",
       "Missouri                 1.473938\n",
       "North Carolina           1.300023\n",
       "Indiana                  0.972735\n",
       "South Carolina           0.954020\n",
       "Kansas                   0.844011\n",
       "Nevada                   0.839446\n",
       "District of Columbia     0.780562\n",
       "Utah                     0.771889\n",
       "Wisconsin                0.748152\n",
       "Oklahoma                 0.673292\n",
       "Georgia                  0.607104\n",
       "Maine                    0.603908\n",
       "Idaho                    0.568304\n",
       "Nebraska                 0.517179\n",
       "Arkansas                 0.510789\n",
       "West Virginia            0.455099\n",
       "Delaware                 0.423147\n",
       "Iowa                     0.401693\n",
       "Rhode Island             0.399867\n",
       "Montana                  0.317702\n",
       "New Hampshire            0.301726\n",
       "New Mexico               0.274794\n",
       "Louisiana                0.269773\n",
       "South Dakota             0.266121\n",
       "Vermont                  0.265665\n",
       "North Dakota             0.197651\n",
       "Federal                  0.194456\n",
       "Alaska                   0.108183\n",
       "Alabama                  0.105444\n",
       "Mississippi              0.095858\n",
       "Wyoming                  0.080339\n",
       "Hawaii                   0.054776\n",
       "Guam                     0.002282\n",
       "Name: STATE_NAME, dtype: float64"
      ]
     },
     "execution_count": 180,
     "metadata": {},
     "output_type": "execute_result"
    }
   ],
   "source": [
    "hc[\"STATE_NAME\"].value_counts(normalize=True) * 100"
   ]
  },
  {
   "cell_type": "markdown",
   "id": "6111aa7c",
   "metadata": {},
   "source": [
    "# Amount of Hate Crimes based on Race"
   ]
  },
  {
   "cell_type": "code",
   "execution_count": 181,
   "id": "ae6c38ec",
   "metadata": {},
   "outputs": [
    {
     "data": {
      "text/plain": [
       "Unknown                                      97111\n",
       "White                                        86242\n",
       "Black or African American                    28391\n",
       "Multiple                                      4419\n",
       "Asian                                         1596\n",
       "American Indian or Alaska Native              1211\n",
       "Native Hawaiian or Other Pacific Islander       83\n",
       "Name: OFFENDER_RACE, dtype: int64"
      ]
     },
     "execution_count": 181,
     "metadata": {},
     "output_type": "execute_result"
    }
   ],
   "source": [
    "hc[\"OFFENDER_RACE\"].value_counts()"
   ]
  },
  {
   "cell_type": "markdown",
   "id": "9baa103e",
   "metadata": {},
   "source": [
    "# Percentage of Hate Crimes based on Race"
   ]
  },
  {
   "cell_type": "code",
   "execution_count": 182,
   "id": "e03b78d4",
   "metadata": {
    "scrolled": true
   },
   "outputs": [
    {
     "data": {
      "text/plain": [
       "Unknown                                      44.332194\n",
       "White                                        39.370381\n",
       "Black or African American                    12.960790\n",
       "Multiple                                      2.017320\n",
       "Asian                                         0.728591\n",
       "American Indian or Alaska Native              0.552834\n",
       "Native Hawaiian or Other Pacific Islander     0.037890\n",
       "Name: OFFENDER_RACE, dtype: float64"
      ]
     },
     "execution_count": 182,
     "metadata": {},
     "output_type": "execute_result"
    }
   ],
   "source": [
    "hc[\"OFFENDER_RACE\"].value_counts(normalize=True) * 100"
   ]
  },
  {
   "cell_type": "markdown",
   "id": "b22dedf5",
   "metadata": {},
   "source": [
    "# Dates with the Most Amount of Hate Crimes"
   ]
  },
  {
   "cell_type": "code",
   "execution_count": 183,
   "id": "a09f521b",
   "metadata": {
    "scrolled": true
   },
   "outputs": [
    {
     "data": {
      "text/plain": [
       "12-SEP-01    178\n",
       "13-SEP-01    150\n",
       "11-SEP-01    147\n",
       "14-SEP-01    145\n",
       "15-SEP-01    121\n",
       "Name: INCIDENT_DATE, dtype: int64"
      ]
     },
     "execution_count": 183,
     "metadata": {},
     "output_type": "execute_result"
    }
   ],
   "source": [
    "hc[\"INCIDENT_DATE\"].value_counts().head(5)"
   ]
  },
  {
   "cell_type": "markdown",
   "id": "80aff78f",
   "metadata": {},
   "source": [
    "# Dates with the Least Amount of Hate Crimes"
   ]
  },
  {
   "cell_type": "code",
   "execution_count": 184,
   "id": "fb979a31",
   "metadata": {
    "scrolled": true
   },
   "outputs": [
    {
     "data": {
      "text/plain": [
       "30-MAR-91    2\n",
       "18-FEB-91    2\n",
       "27-NOV-14    2\n",
       "31-DEC-14    2\n",
       "25-MAY-91    3\n",
       "Name: INCIDENT_DATE, dtype: int64"
      ]
     },
     "execution_count": 184,
     "metadata": {},
     "output_type": "execute_result"
    }
   ],
   "source": [
    "hc[\"INCIDENT_DATE\"].value_counts(ascending=True).head(5)"
   ]
  },
  {
   "cell_type": "markdown",
   "id": "fd6fa2d7",
   "metadata": {},
   "source": [
    "# Years with the Most Amount of Hate Crimes"
   ]
  },
  {
   "cell_type": "code",
   "execution_count": 185,
   "id": "c2b548be",
   "metadata": {
    "scrolled": true
   },
   "outputs": [
    {
     "data": {
      "text/plain": [
       "2020    9795\n",
       "2001    9730\n",
       "1996    8790\n",
       "2000    8219\n",
       "1997    8107\n",
       "Name: DATA_YEAR, dtype: int64"
      ]
     },
     "execution_count": 185,
     "metadata": {},
     "output_type": "execute_result"
    }
   ],
   "source": [
    "hc[\"DATA_YEAR\"].value_counts().head()"
   ]
  },
  {
   "cell_type": "markdown",
   "id": "9961ec67",
   "metadata": {},
   "source": [
    "# Years with the Least Amount of Hate Crimes"
   ]
  },
  {
   "cell_type": "code",
   "execution_count": 186,
   "id": "5845104d",
   "metadata": {
    "scrolled": false
   },
   "outputs": [
    {
     "data": {
      "text/plain": [
       "1991    4589\n",
       "2014    5599\n",
       "2015    5871\n",
       "1994    5954\n",
       "2013    6044\n",
       "Name: DATA_YEAR, dtype: int64"
      ]
     },
     "execution_count": 186,
     "metadata": {},
     "output_type": "execute_result"
    }
   ],
   "source": [
    "hc[\"DATA_YEAR\"].value_counts(ascending=True).head(5)"
   ]
  },
  {
   "cell_type": "markdown",
   "id": "278cf6ad",
   "metadata": {},
   "source": [
    "# Amount of Hate Crimes by Year in Descending Order"
   ]
  },
  {
   "cell_type": "code",
   "execution_count": 203,
   "id": "8cb75b3f",
   "metadata": {},
   "outputs": [
    {
     "data": {
      "text/plain": [
       "2020    9795\n",
       "2019    7892\n",
       "2018    7171\n",
       "2017    7321\n",
       "2016    6276\n",
       "2015    5871\n",
       "2014    5599\n",
       "2013    6044\n",
       "2012    6594\n",
       "2011    6299\n",
       "2010    6633\n",
       "2009    6613\n",
       "2008    8039\n",
       "2007    7625\n",
       "2006    7715\n",
       "2005    7411\n",
       "2004    7685\n",
       "2003    7545\n",
       "2002    7485\n",
       "2001    9730\n",
       "2000    8219\n",
       "1999    7944\n",
       "1998    7902\n",
       "1997    8107\n",
       "1996    8790\n",
       "1995    7950\n",
       "1994    5954\n",
       "1993    7608\n",
       "1992    6667\n",
       "1991    4589\n",
       "Name: DATA_YEAR, dtype: int64"
      ]
     },
     "execution_count": 203,
     "metadata": {},
     "output_type": "execute_result"
    }
   ],
   "source": [
    "hc[\"DATA_YEAR\"].value_counts().sort_index(ascending=False)"
   ]
  },
  {
   "cell_type": "markdown",
   "id": "e5325300",
   "metadata": {},
   "source": [
    "# Percentage of Hate Crimes by Year in Descending Order"
   ]
  },
  {
   "cell_type": "code",
   "execution_count": 188,
   "id": "288e93ae",
   "metadata": {
    "scrolled": true
   },
   "outputs": [
    {
     "data": {
      "text/plain": [
       "2020    4.471112\n",
       "2019    3.602452\n",
       "2018    3.273338\n",
       "2017    3.341808\n",
       "2016    2.864798\n",
       "2015    2.679929\n",
       "2014    2.555769\n",
       "2013    2.758898\n",
       "2012    3.009956\n",
       "2011    2.875297\n",
       "2010    3.027758\n",
       "2009    3.018628\n",
       "2008    3.669553\n",
       "2007    3.480575\n",
       "2006    3.521657\n",
       "2005    3.382891\n",
       "2004    3.507963\n",
       "2003    3.444057\n",
       "2002    3.416669\n",
       "2001    4.441442\n",
       "2000    3.751717\n",
       "1999    3.626189\n",
       "1998    3.607017\n",
       "1997    3.700593\n",
       "1996    4.012361\n",
       "1995    3.628927\n",
       "1994    2.717816\n",
       "1993    3.472815\n",
       "1992    3.043278\n",
       "1991    2.094736\n",
       "Name: DATA_YEAR, dtype: float64"
      ]
     },
     "execution_count": 188,
     "metadata": {},
     "output_type": "execute_result"
    }
   ],
   "source": [
    "hc[\"DATA_YEAR\"].value_counts(normalize=True).sort_index(ascending=False) * 100"
   ]
  },
  {
   "cell_type": "markdown",
   "id": "349b4047",
   "metadata": {},
   "source": [
    "# Amount of Hate Crimes by Ethnicity"
   ]
  },
  {
   "cell_type": "code",
   "execution_count": 189,
   "id": "98d2d7c2",
   "metadata": {
    "scrolled": true
   },
   "outputs": [
    {
     "data": {
      "text/plain": [
       "Unknown                   24987\n",
       "Not Hispanic or Latino     7321\n",
       "Hispanic or Latino         1859\n",
       "Multiple                    202\n",
       "Name: OFFENDER_ETHNICITY, dtype: int64"
      ]
     },
     "execution_count": 189,
     "metadata": {},
     "output_type": "execute_result"
    }
   ],
   "source": [
    "hc[\"OFFENDER_ETHNICITY\"].value_counts()"
   ]
  },
  {
   "cell_type": "markdown",
   "id": "4ec8ff75",
   "metadata": {},
   "source": [
    "# Percentage of Hate Crimes by Ethnicity"
   ]
  },
  {
   "cell_type": "code",
   "execution_count": 55,
   "id": "45293b2f",
   "metadata": {
    "scrolled": true
   },
   "outputs": [
    {
     "data": {
      "text/plain": [
       "Unknown                   72.702144\n",
       "Not Hispanic or Latino    21.301173\n",
       "Hispanic or Latino         5.408944\n",
       "Multiple                   0.587739\n",
       "Name: OFFENDER_ETHNICITY, dtype: float64"
      ]
     },
     "execution_count": 55,
     "metadata": {},
     "output_type": "execute_result"
    }
   ],
   "source": [
    "hc[\"OFFENDER_ETHNICITY\"].value_counts(normalize=True) * 100"
   ]
  },
  {
   "cell_type": "markdown",
   "id": "489f5206",
   "metadata": {},
   "source": [
    "# Amount of Hate Crimes by Region"
   ]
  },
  {
   "cell_type": "code",
   "execution_count": 190,
   "id": "4cf98ea6",
   "metadata": {
    "scrolled": true
   },
   "outputs": [
    {
     "data": {
      "text/plain": [
       "West                66996\n",
       "Northeast           62764\n",
       "South               45978\n",
       "Midwest             42904\n",
       "Other                 426\n",
       "U.S. Territories        5\n",
       "Name: REGION_NAME, dtype: int64"
      ]
     },
     "execution_count": 190,
     "metadata": {},
     "output_type": "execute_result"
    }
   ],
   "source": [
    "hc[\"REGION_NAME\"].value_counts()"
   ]
  },
  {
   "cell_type": "markdown",
   "id": "d186138f",
   "metadata": {},
   "source": [
    "# Percentage of Hate Crimes by Region"
   ]
  },
  {
   "cell_type": "code",
   "execution_count": 191,
   "id": "a217f415",
   "metadata": {
    "scrolled": true
   },
   "outputs": [
    {
     "data": {
      "text/plain": [
       "West                30.581587\n",
       "Northeast           28.649811\n",
       "South               20.987525\n",
       "Midwest             19.584339\n",
       "Other                0.194456\n",
       "U.S. Territories     0.002282\n",
       "Name: REGION_NAME, dtype: float64"
      ]
     },
     "execution_count": 191,
     "metadata": {},
     "output_type": "execute_result"
    }
   ],
   "source": [
    "hc[\"REGION_NAME\"].value_counts(normalize=True) * 100"
   ]
  },
  {
   "cell_type": "markdown",
   "id": "3145ed33",
   "metadata": {},
   "source": [
    "# Percentage of Hate Crimes by Offense Name"
   ]
  },
  {
   "cell_type": "code",
   "execution_count": 192,
   "id": "d25588ba",
   "metadata": {
    "scrolled": true
   },
   "outputs": [
    {
     "data": {
      "text/plain": [
       "Destruction/Damage/Vandalism of Property                                     30.436430\n",
       "Intimidation                                                                 29.204877\n",
       "Simple Assault                                                               19.006450\n",
       "Aggravated Assault                                                           10.451311\n",
       "Robbery                                                                       1.685739\n",
       "                                                                               ...    \n",
       "Destruction/Damage/Vandalism of Property;Shoplifting;Simple Assault           0.000456\n",
       "Destruction/Damage/Vandalism of Property;Intimidation;Motor Vehicle Theft     0.000456\n",
       "Kidnapping/Abduction;Motor Vehicle Theft;Purse-snatching                      0.000456\n",
       "Aggravated Assault;Rape;Robbery                                               0.000456\n",
       "Arson;Destruction/Damage/Vandalism of Property;Not Specified                  0.000456\n",
       "Name: OFFENSE_NAME, Length: 350, dtype: float64"
      ]
     },
     "execution_count": 192,
     "metadata": {},
     "output_type": "execute_result"
    }
   ],
   "source": [
    "hc[\"OFFENSE_NAME\"].value_counts(normalize=True) * 100"
   ]
  },
  {
   "cell_type": "markdown",
   "id": "5627e57c",
   "metadata": {},
   "source": [
    "# (Top 5) Hate Crimes by Offense Name"
   ]
  },
  {
   "cell_type": "code",
   "execution_count": 193,
   "id": "33ff4b05",
   "metadata": {
    "scrolled": true
   },
   "outputs": [
    {
     "data": {
      "text/plain": [
       "Destruction/Damage/Vandalism of Property    66678\n",
       "Intimidation                                63980\n",
       "Simple Assault                              41638\n",
       "Aggravated Assault                          22896\n",
       "Robbery                                      3693\n",
       "Name: OFFENSE_NAME, dtype: int64"
      ]
     },
     "execution_count": 193,
     "metadata": {},
     "output_type": "execute_result"
    }
   ],
   "source": [
    "hc[\"OFFENSE_NAME\"].value_counts().head(5)"
   ]
  },
  {
   "cell_type": "markdown",
   "id": "9e47563e",
   "metadata": {},
   "source": [
    "# (Bottom 5) Hate Crimes by Offense Name"
   ]
  },
  {
   "cell_type": "code",
   "execution_count": 194,
   "id": "cbd39b6d",
   "metadata": {
    "scrolled": true
   },
   "outputs": [
    {
     "data": {
      "text/plain": [
       "Burglary/Breaking & Entering;Impersonation                                                           1\n",
       "Aggravated Assault;Arson;Burglary/Breaking & Entering;Destruction/Damage/Vandalism of Property       1\n",
       "Intimidation;Motor Vehicle Theft;Robbery;Simple Assault                                              1\n",
       "Aggravated Assault;Destruction/Damage/Vandalism of Property;Fondling                                 1\n",
       "Destruction/Damage/Vandalism of Property;Intimidation;Theft of Motor Vehicle Parts or Accessories    1\n",
       "Name: OFFENSE_NAME, dtype: int64"
      ]
     },
     "execution_count": 194,
     "metadata": {},
     "output_type": "execute_result"
    }
   ],
   "source": [
    "hc[\"OFFENSE_NAME\"].value_counts(ascending=True).head(5)"
   ]
  },
  {
   "cell_type": "markdown",
   "id": "b65abdc3",
   "metadata": {},
   "source": [
    "# (Top 5) Amounts of Hate Crimes by Number of Victims in Descending Order"
   ]
  },
  {
   "cell_type": "markdown",
   "id": "f5a4432d",
   "metadata": {},
   "source": [
    "###### Note: 1 = one victim, 2 = two victims, etc . . ."
   ]
  },
  {
   "cell_type": "code",
   "execution_count": 196,
   "id": "8a4212fb",
   "metadata": {},
   "outputs": [
    {
     "data": {
      "text/plain": [
       "1    185771\n",
       "2     24618\n",
       "3      4913\n",
       "4      1977\n",
       "5       703\n",
       "Name: VICTIM_COUNT, dtype: int64"
      ]
     },
     "execution_count": 196,
     "metadata": {},
     "output_type": "execute_result"
    }
   ],
   "source": [
    "hc[\"VICTIM_COUNT\"].value_counts().sort_index().head(5)"
   ]
  },
  {
   "cell_type": "markdown",
   "id": "2395ba1f",
   "metadata": {},
   "source": [
    "# (Top 5) Percentage of Hate Crimes by Number of Victims"
   ]
  },
  {
   "cell_type": "markdown",
   "id": "1c3aebbb",
   "metadata": {},
   "source": [
    "###### **See previous note above."
   ]
  },
  {
   "cell_type": "code",
   "execution_count": 197,
   "id": "eed8ea23",
   "metadata": {
    "scrolled": true
   },
   "outputs": [
    {
     "data": {
      "text/plain": [
       "1    84.798674\n",
       "2    11.237350\n",
       "3     2.242631\n",
       "4     0.902439\n",
       "5     0.320898\n",
       "Name: VICTIM_COUNT, dtype: float64"
      ]
     },
     "execution_count": 197,
     "metadata": {},
     "output_type": "execute_result"
    }
   ],
   "source": [
    "(hc[\"VICTIM_COUNT\"].value_counts(normalize=True) * 100).head(5)"
   ]
  },
  {
   "cell_type": "markdown",
   "id": "e0abe65a",
   "metadata": {},
   "source": [
    "# (Top 5) Amounts of Hate Crime by Location"
   ]
  },
  {
   "cell_type": "code",
   "execution_count": 198,
   "id": "1f12ea64",
   "metadata": {
    "scrolled": true
   },
   "outputs": [
    {
     "data": {
      "text/plain": [
       "Residence/Home                        64898\n",
       "Highway/Road/Alley/Street/Sidewalk    41395\n",
       "Other/Unknown                         29303\n",
       "School/College                        17479\n",
       "Parking/Drop Lot/Garage               12474\n",
       "Name: LOCATION_NAME, dtype: int64"
      ]
     },
     "execution_count": 198,
     "metadata": {},
     "output_type": "execute_result"
    }
   ],
   "source": [
    "hc[\"LOCATION_NAME\"].value_counts().head(5)"
   ]
  },
  {
   "cell_type": "markdown",
   "id": "90ae8641",
   "metadata": {},
   "source": [
    "# (Bottom 5) Amounts of Hate Crime by Location"
   ]
  },
  {
   "cell_type": "code",
   "execution_count": 152,
   "id": "bce36779",
   "metadata": {
    "scrolled": true
   },
   "outputs": [
    {
     "data": {
      "text/plain": [
       "Commercial/Office Building;Department/Discount Store                 1\n",
       "Church/Synagogue/Temple/Mosque;Highway/Road/Alley/Street/Sidewalk    1\n",
       "Convenience Store;Jail/Prison/Penitentiary/Corrections Facility      1\n",
       "Drug Store/Doctor's Office/Hospital;Parking/Drop Lot/Garage          1\n",
       "Bar/Nightclub;Restaurant                                             1\n",
       "Name: LOCATION_NAME, dtype: int64"
      ]
     },
     "execution_count": 152,
     "metadata": {},
     "output_type": "execute_result"
    }
   ],
   "source": [
    "hc[\"LOCATION_NAME\"].value_counts(ascending=True).head(5)"
   ]
  },
  {
   "cell_type": "markdown",
   "id": "51633c78",
   "metadata": {},
   "source": [
    "# Percentage of Hate Crime by Location"
   ]
  },
  {
   "cell_type": "code",
   "execution_count": 154,
   "id": "317d91bb",
   "metadata": {
    "scrolled": true
   },
   "outputs": [
    {
     "data": {
      "text/plain": [
       "Residence/Home                                               29.623915\n",
       "Highway/Road/Alley/Street/Sidewalk                           18.895528\n",
       "Other/Unknown                                                13.375907\n",
       "School/College                                                7.978619\n",
       "Parking/Drop Lot/Garage                                       5.693992\n",
       "                                                               ...    \n",
       "Bar/Nightclub;Hotel/Motel/Etc.                                0.000456\n",
       "Residence/Home;Service/Gas Station                            0.000456\n",
       "Convenience Store;Government/Public Building                  0.000456\n",
       "Air/Bus/Train Terminal;Highway/Road/Alley/Street/Sidewalk     0.000456\n",
       "Highway/Road/Alley/Street/Sidewalk;Park/Playground            0.000456\n",
       "Name: LOCATION_NAME, Length: 130, dtype: float64"
      ]
     },
     "execution_count": 154,
     "metadata": {},
     "output_type": "execute_result"
    }
   ],
   "source": [
    "hc[\"LOCATION_NAME\"].value_counts(normalize=True) * 100"
   ]
  },
  {
   "cell_type": "markdown",
   "id": "207999d3",
   "metadata": {},
   "source": [
    "# (Top 5) Biases related to Hate Crime"
   ]
  },
  {
   "cell_type": "code",
   "execution_count": 157,
   "id": "85b87921",
   "metadata": {
    "scrolled": true
   },
   "outputs": [
    {
     "data": {
      "text/plain": [
       "Anti-Black or African American    74646\n",
       "Anti-Jewish                       28006\n",
       "Anti-White                        25097\n",
       "Anti-Gay (Male)                   21830\n",
       "Anti-Hispanic or Latino           14020\n",
       "Name: BIAS_DESC, dtype: int64"
      ]
     },
     "execution_count": 157,
     "metadata": {},
     "output_type": "execute_result"
    }
   ],
   "source": [
    "hc[\"BIAS_DESC\"].value_counts().head(5)"
   ]
  },
  {
   "cell_type": "markdown",
   "id": "c24c3474",
   "metadata": {},
   "source": [
    "# (Bottom 5) Biases related to Hate Crime"
   ]
  },
  {
   "cell_type": "code",
   "execution_count": 158,
   "id": "a509910c",
   "metadata": {
    "scrolled": true
   },
   "outputs": [
    {
     "data": {
      "text/plain": [
       "Anti-Hispanic or Latino;Anti-Native Hawaiian or Other Pacific Islander                             1\n",
       "Anti-Arab;Anti-Hispanic or Latino;Anti-Islamic (Muslim)                                            1\n",
       "Anti-Arab;Anti-Black or African American;Anti-Islamic (Muslim)                                     1\n",
       "Anti-Gay (Male);Anti-Lesbian (Female);Anti-Lesbian, Gay, Bisexual, or Transgender (Mixed Group)    1\n",
       "Anti-Lesbian (Female);Anti-Other Religion                                                          1\n",
       "Name: BIAS_DESC, dtype: int64"
      ]
     },
     "execution_count": 158,
     "metadata": {},
     "output_type": "execute_result"
    }
   ],
   "source": [
    "hc[\"BIAS_DESC\"].value_counts(ascending=True).head(5)"
   ]
  },
  {
   "cell_type": "markdown",
   "id": "5aaf71d6",
   "metadata": {},
   "source": [
    "# Percentage of Biases related to Hate Crime"
   ]
  },
  {
   "cell_type": "code",
   "execution_count": 159,
   "id": "ca3b2a6a",
   "metadata": {
    "scrolled": true
   },
   "outputs": [
    {
     "data": {
      "text/plain": [
       "Anti-Black or African American                                                          34.073574\n",
       "Anti-Jewish                                                                             12.783867\n",
       "Anti-White                                                                              11.455999\n",
       "Anti-Gay (Male)                                                                          9.964715\n",
       "Anti-Hispanic or Latino                                                                  6.399693\n",
       "                                                                                          ...    \n",
       "Anti-Arab;Anti-Islamic (Muslim);Anti-Multiple Religions, Group                           0.000456\n",
       "Anti-American Indian or Alaska Native;Anti-Native Hawaiian or Other Pacific Islander     0.000456\n",
       "Anti-Lesbian (Female);Anti-Transgender                                                   0.000456\n",
       "Anti-Hispanic or Latino;Anti-Lesbian (Female)                                            0.000456\n",
       "Anti-Hispanic or Latino;Anti-Native Hawaiian or Other Pacific Islander                   0.000456\n",
       "Name: BIAS_DESC, Length: 276, dtype: float64"
      ]
     },
     "execution_count": 159,
     "metadata": {},
     "output_type": "execute_result"
    }
   ],
   "source": [
    "hc[\"BIAS_DESC\"].value_counts(normalize=True) * 100"
   ]
  },
  {
   "cell_type": "markdown",
   "id": "3f935398",
   "metadata": {},
   "source": [
    "# Percentage of Hate Crimes based on Victim Type"
   ]
  },
  {
   "cell_type": "code",
   "execution_count": 168,
   "id": "163602d7",
   "metadata": {
    "scrolled": true
   },
   "outputs": [
    {
     "data": {
      "text/plain": [
       "Individual                                               79.194606\n",
       "Other                                                     6.247689\n",
       "Business                                                  4.364299\n",
       "Religious Organization                                    2.814587\n",
       "Government                                                2.727401\n",
       "Society/Public                                            2.298321\n",
       "Individual;Other                                          0.727155\n",
       "Unknown                                                   0.600713\n",
       "Business;Individual                                       0.399410\n",
       "Individual;Society/Public                                 0.181218\n",
       "Individual;Religious Organization                         0.101793\n",
       "Government;Individual                                     0.088555\n",
       "Law Enforcement Officer                                   0.074861\n",
       "Financial Institution                                     0.043821\n",
       "Individual;Unknown                                        0.024649\n",
       "Individual;Law Enforcement Officer                        0.020541\n",
       "Business;Government                                       0.018259\n",
       "Business;Society/Public                                   0.010042\n",
       "Business;Unknown                                          0.008216\n",
       "Business;Government;Individual                            0.008216\n",
       "Business;Religious Organization                           0.005934\n",
       "Government;Religious Organization                         0.005021\n",
       "Business;Other                                            0.004565\n",
       "Government;Society/Public                                 0.003652\n",
       "Business;Individual;Religious Organization                0.003195\n",
       "Religious Organization;Society/Public                     0.002282\n",
       "Government;Individual;Religious Organization              0.002282\n",
       "Government;Other                                          0.001369\n",
       "Other;Religious Organization                              0.001369\n",
       "Law Enforcement Officer;Society/Public                    0.000913\n",
       "Government;Individual;Law Enforcement Officer             0.000913\n",
       "Government;Law Enforcement Officer                        0.000913\n",
       "Business;Individual;Society/Public                        0.000913\n",
       "Business;Financial Institution;Individual                 0.000913\n",
       "Business;Individual;Other                                 0.000913\n",
       "Business;Financial Institution                            0.000913\n",
       "Financial Institution;Individual                          0.000913\n",
       "Business;Government;Religious Organization                0.000913\n",
       "Government;Individual;Society/Public                      0.000913\n",
       "Business;Government;Individual;Religious Organization     0.000456\n",
       "Individual;Religious Organization;Society/Public          0.000456\n",
       "Law Enforcement Officer;Unknown                           0.000456\n",
       "Financial Institution;Individual;Society/Public           0.000456\n",
       "Government;Unknown                                        0.000456\n",
       "Society/Public;Unknown                                    0.000456\n",
       "Financial Institution;Government                          0.000456\n",
       "Financial Institution;Other;Society/Public;Unknown        0.000456\n",
       "Government;Individual;Other;Religious Organization        0.000456\n",
       "Business;Financial Institution;Government;Other           0.000456\n",
       "Individual;Other;Religious Organization                   0.000456\n",
       "Other;Society/Public                                      0.000456\n",
       "Business;Government;Individual;Other                      0.000456\n",
       "Business;Individual;Unknown                               0.000456\n",
       "Individual;Law Enforcement Officer;Society/Public         0.000456\n",
       "Name: VICTIM_TYPES, dtype: float64"
      ]
     },
     "execution_count": 168,
     "metadata": {},
     "output_type": "execute_result"
    }
   ],
   "source": [
    "hc[\"VICTIM_TYPES\"].value_counts(normalize=True) * 100"
   ]
  },
  {
   "cell_type": "markdown",
   "id": "f0798bf7",
   "metadata": {},
   "source": [
    "# (Top 5) Amounts of Hate Crime based on Victim Type"
   ]
  },
  {
   "cell_type": "code",
   "execution_count": 166,
   "id": "7f8686c6",
   "metadata": {
    "scrolled": true
   },
   "outputs": [
    {
     "data": {
      "text/plain": [
       "Individual                173494\n",
       "Other                      13687\n",
       "Business                    9561\n",
       "Religious Organization      6166\n",
       "Government                  5975\n",
       "Name: VICTIM_TYPES, dtype: int64"
      ]
     },
     "execution_count": 166,
     "metadata": {},
     "output_type": "execute_result"
    }
   ],
   "source": [
    "hc[\"VICTIM_TYPES\"].value_counts().head(5)"
   ]
  },
  {
   "cell_type": "markdown",
   "id": "3f6b6baa",
   "metadata": {},
   "source": [
    "# (Bottom 5) Amounts of Hate Crime based on Victim Type"
   ]
  },
  {
   "cell_type": "code",
   "execution_count": 167,
   "id": "b4b037f2",
   "metadata": {
    "scrolled": true
   },
   "outputs": [
    {
     "data": {
      "text/plain": [
       "Individual;Law Enforcement Officer;Society/Public        1\n",
       "Business;Government;Individual;Religious Organization    1\n",
       "Society/Public;Unknown                                   1\n",
       "Business;Individual;Unknown                              1\n",
       "Business;Government;Individual;Other                     1\n",
       "Name: VICTIM_TYPES, dtype: int64"
      ]
     },
     "execution_count": 167,
     "metadata": {},
     "output_type": "execute_result"
    }
   ],
   "source": [
    "hc[\"VICTIM_TYPES\"].value_counts(ascending=True).head(5)"
   ]
  },
  {
   "cell_type": "markdown",
   "id": "ef590989",
   "metadata": {},
   "source": [
    "# Amount of Hate Crimes by Offense Type"
   ]
  },
  {
   "cell_type": "markdown",
   "id": "3e655f7a",
   "metadata": {},
   "source": [
    "##### Note: S = Single Offense and M = Multiple Offense"
   ]
  },
  {
   "cell_type": "code",
   "execution_count": 170,
   "id": "cda149b6",
   "metadata": {
    "scrolled": true
   },
   "outputs": [
    {
     "data": {
      "text/plain": [
       "S    209378\n",
       "M      9695\n",
       "Name: MULTIPLE_OFFENSE, dtype: int64"
      ]
     },
     "execution_count": 170,
     "metadata": {},
     "output_type": "execute_result"
    }
   ],
   "source": [
    "hc[\"MULTIPLE_OFFENSE\"].value_counts()"
   ]
  },
  {
   "cell_type": "markdown",
   "id": "b76463a7",
   "metadata": {},
   "source": [
    "# Percentage of Hate Crimes by Offense Type"
   ]
  },
  {
   "cell_type": "markdown",
   "id": "22de5aa7",
   "metadata": {},
   "source": [
    "###### **See previous note above."
   ]
  },
  {
   "cell_type": "code",
   "execution_count": 172,
   "id": "64b95cd7",
   "metadata": {
    "scrolled": true
   },
   "outputs": [
    {
     "data": {
      "text/plain": [
       "S    95.574535\n",
       "M     4.425465\n",
       "Name: MULTIPLE_OFFENSE, dtype: float64"
      ]
     },
     "execution_count": 172,
     "metadata": {},
     "output_type": "execute_result"
    }
   ],
   "source": [
    "hc[\"MULTIPLE_OFFENSE\"].value_counts(normalize=True) * 100"
   ]
  },
  {
   "cell_type": "markdown",
   "id": "907e67b3",
   "metadata": {},
   "source": [
    "# Amount of Hate Crimes by Bias Type"
   ]
  },
  {
   "cell_type": "markdown",
   "id": "72a8c6d8",
   "metadata": {},
   "source": [
    "###### Note: S = Single Bias and M = Multiple Biases"
   ]
  },
  {
   "cell_type": "code",
   "execution_count": 176,
   "id": "19f778cf",
   "metadata": {
    "scrolled": true
   },
   "outputs": [
    {
     "data": {
      "text/plain": [
       "S    218060\n",
       "M      1013\n",
       "Name: MULTIPLE_BIAS, dtype: int64"
      ]
     },
     "execution_count": 176,
     "metadata": {},
     "output_type": "execute_result"
    }
   ],
   "source": [
    "hc[\"MULTIPLE_BIAS\"].value_counts()"
   ]
  },
  {
   "cell_type": "markdown",
   "id": "c883900d",
   "metadata": {},
   "source": [
    "# Percentage of Hate Crimes by Bias Type"
   ]
  },
  {
   "cell_type": "markdown",
   "id": "747ad8d4",
   "metadata": {},
   "source": [
    "##### **See previous note above."
   ]
  },
  {
   "cell_type": "code",
   "execution_count": 177,
   "id": "8dfb0981",
   "metadata": {
    "scrolled": true
   },
   "outputs": [
    {
     "data": {
      "text/plain": [
       "S    99.537597\n",
       "M     0.462403\n",
       "Name: MULTIPLE_BIAS, dtype: float64"
      ]
     },
     "execution_count": 177,
     "metadata": {},
     "output_type": "execute_result"
    }
   ],
   "source": [
    "# Percentage of Types of Hate Crimes (S) for Singular Bias or (M) for Multiple Biases\n",
    "hc[\"MULTIPLE_BIAS\"].value_counts(normalize=True) * 100"
   ]
  }
 ],
 "metadata": {
  "kernelspec": {
   "display_name": "Python 3",
   "language": "python",
   "name": "python3"
  },
  "language_info": {
   "codemirror_mode": {
    "name": "ipython",
    "version": 3
   },
   "file_extension": ".py",
   "mimetype": "text/x-python",
   "name": "python",
   "nbconvert_exporter": "python",
   "pygments_lexer": "ipython3",
   "version": "3.9.2"
  }
 },
 "nbformat": 4,
 "nbformat_minor": 5
}
